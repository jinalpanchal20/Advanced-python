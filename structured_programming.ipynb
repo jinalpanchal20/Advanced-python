{
 "cells": [
  {
   "cell_type": "markdown",
   "id": "e2dacce4-5a08-40bb-a3da-d0df4db3d0e2",
   "metadata": {},
   "source": [
    "# Structured programming"
   ]
  },
  {
   "cell_type": "markdown",
   "id": "9108711a-1788-4eb2-be34-d6a198d7f76c",
   "metadata": {},
   "source": [
    "Python supports structured programming through:\n",
    "- Functions: You can define functions to encapsulate specific tasks and reuse them throughout your program.\n",
    "- Loops: Python provides for and while loops to iterate over data structures or repeat actions.\n",
    "- Conditional Statements: Python uses if, elif, and else to make decisions in the code.\n",
    "- Modularization: You can organize your code into modules and packages, which helps in maintaining and scaling larger projects.\n",
    "\n",
    "Structured programming in Python ensures your code is organized, readable, and maintainable, which are key aspects of good software development practices"
   ]
  },
  {
   "cell_type": "markdown",
   "id": "edcdcfb0-c15a-4a82-8bca-e2bac2876fd0",
   "metadata": {},
   "source": [
    "# Decorators"
   ]
  },
  {
   "cell_type": "markdown",
   "id": "604924b5-a279-454b-a5a6-8325ea222eb3",
   "metadata": {},
   "source": [
    "- Decorators are a very powerful and useful tool in Python since it allows programmers to modify the behaviour of a function or class.\n",
    "- Decorators allow us to wrap another function in order to extend the behaviour of the wrapped function, without permanently modifying it"
   ]
  },
  {
   "cell_type": "code",
   "execution_count": 1,
   "id": "06fc6197-d9a5-444e-9843-8b021cab61e6",
   "metadata": {},
   "outputs": [
    {
     "name": "stdout",
     "output_type": "stream",
     "text": [
      "transaction initiated\n",
      "executing all steps of transaction\n",
      "transaction completed\n"
     ]
    }
   ],
   "source": [
    "def decorator(func):\n",
    "    def wrapper():\n",
    "        print(\"transaction initiated\")\n",
    "        func()\n",
    "        print(\"transaction completed\")\n",
    "    return wrapper\n",
    "def hello():\n",
    "        print(\"executing all steps of transaction\")\n",
    "hello1 = decorator(hello)\n",
    "hello1()"
   ]
  },
  {
   "cell_type": "markdown",
   "id": "c8123a27-a458-44cb-8362-1ab56d3eb97b",
   "metadata": {},
   "source": [
    "---> from above the code we can easily understand that how can we decorate our code by using the function or first class object"
   ]
  },
  {
   "cell_type": "code",
   "execution_count": 2,
   "id": "bbd87601-8cbc-4399-80e5-e81ba5a861a8",
   "metadata": {},
   "outputs": [
    {
     "name": "stdout",
     "output_type": "stream",
     "text": [
      "transaction initiated\n",
      "blah...blah,,,blah\n",
      "transaction completed\n",
      "transaction initiated\n",
      "all of you are very warm welcome\n",
      "trancrtion completed\n"
     ]
    }
   ],
   "source": [
    "def decorator_1(func_1):\n",
    "    def wrapper_1():\n",
    "        print(\"transaction initiated\")\n",
    "        func_1()\n",
    "        print(\"trancrtion completed\")\n",
    "    return wrapper_1\n",
    "@decorator\n",
    "def hello2():\n",
    "    print(\"blah...blah,,,blah\")\n",
    "@decorator_1\n",
    "def welcome2():\n",
    "    print(\"all of you are very warm welcome\")\n",
    "\n",
    "hello2()\n",
    "welcome2()"
   ]
  },
  {
   "cell_type": "markdown",
   "id": "2c18275a-4909-4e1f-95f7-cbb6a055b3c0",
   "metadata": {},
   "source": [
    "# iterators"
   ]
  },
  {
   "cell_type": "code",
   "execution_count": 3,
   "id": "be108431-0280-4915-a353-69022c45191b",
   "metadata": {},
   "outputs": [
    {
     "name": "stdout",
     "output_type": "stream",
     "text": [
      "1\n",
      "2\n",
      "3\n",
      "4\n",
      "5\n"
     ]
    }
   ],
   "source": [
    "list1 = [1,2,3,4,5]\n",
    "iterator = iter(list1)\n",
    "print(next(iterator))\n",
    "print(next(iterator))\n",
    "print(next(iterator))\n",
    "print(next(iterator))\n",
    "print(next(iterator))"
   ]
  },
  {
   "cell_type": "code",
   "execution_count": 4,
   "id": "3561bdf7-541e-4d36-95ca-20510936fe99",
   "metadata": {},
   "outputs": [
    {
     "name": "stdout",
     "output_type": "stream",
     "text": [
      "1\n",
      "2\n",
      "3\n",
      "5\n",
      "6\n",
      "78\n",
      "79\n"
     ]
    }
   ],
   "source": [
    "list2 = [1,2,3,5,6,78,79]\n",
    "iterator_2 = iter(list2)\n",
    "while True:\n",
    "    try:\n",
    "        print(next(iterator_2))\n",
    "    except Exception as e:\n",
    "        break"
   ]
  },
  {
   "cell_type": "markdown",
   "id": "3123ab28-4210-42d6-92ea-be2d69a27bca",
   "metadata": {},
   "source": [
    "# Generators"
   ]
  },
  {
   "cell_type": "code",
   "execution_count": 16,
   "id": "1bf8cd39-b00a-4057-8d4a-2da4df969efe",
   "metadata": {},
   "outputs": [],
   "source": [
    "import sys"
   ]
  },
  {
   "cell_type": "code",
   "execution_count": 5,
   "id": "5634cbc7-c0c6-4fea-858d-a58f22938c88",
   "metadata": {},
   "outputs": [
    {
     "name": "stdout",
     "output_type": "stream",
     "text": [
      "1,2,3,4,5,6,7,8,9,10,11,12,13,14,15,16,17,18,19,20,21,22,23,24,25,26,27,28,29,30,31,32,33,34,35,36,37,38,39,40,41,42,43,44,45,46,47,48,49,50,51,52,53,54,55,56,57,58,59,60,61,62,63,64,65,66,67,68,69,70,71,72,73,74,75,76,77,78,79,80,81,82,83,84,85,86,87,88,89,90,91,92,93,94,95,96,97,98,99,100,101,102,103,104,105,106,107,108,109,110,111,112,113,114,115,116,117,118,119,120,121,122,123,124,125,126,127,128,129,130,131,132,133,134,135,136,137,138,139,140,141,142,143,144,145,146,147,148,149,150,151,152,153,154,155,156,157,158,159,160,161,162,163,164,165,166,167,168,169,170,171,172,173,174,175,176,177,178,179,180,181,182,183,184,185,186,187,188,189,190,191,192,193,194,195,196,197,198,199,200,"
     ]
    }
   ],
   "source": [
    "for i in range(1,201):\n",
    "    print(i,end=\",\")"
   ]
  },
  {
   "cell_type": "code",
   "execution_count": 18,
   "id": "b52d6715-728e-40fa-a9d1-86292a2c00d9",
   "metadata": {},
   "outputs": [
    {
     "name": "stdout",
     "output_type": "stream",
     "text": [
      "1,2,3,4,5,6,7,8,9,10,11,12,13,14,15,16,17,18,19,20,21,22,23,24,25,26,27,28,29,30,31,32,33,34,35,36,37,38,39,40,41,42,43,44,45,46,47,48,49,50,51,52,53,54,55,56,57,58,59,60,61,62,63,64,65,66,67,68,69,70,71,72,73,74,75,76,77,78,79,80,81,82,83,84,85,86,87,88,89,90,91,92,93,94,95,96,97,98,99,100,101,102,103,104,105,106,107,108,109,110,111,112,113,114,115,116,117,118,119,120,121,122,123,124,125,126,127,128,129,130,131,132,133,134,135,136,137,138,139,140,141,142,143,144,145,146,147,148,149,150,151,152,153,154,155,156,157,158,159,160,161,162,163,164,165,166,167,168,169,170,171,172,173,174,175,176,177,178,179,180,181,182,183,184,185,186,187,188,189,190,191,192,193,194,195,196,197,198,199,200,\n",
      "28\n"
     ]
    }
   ],
   "source": [
    "def generate_200():\n",
    "    for i in range(1,201):\n",
    "        print(i,end=\",\")\n",
    "    return i\n",
    "generate_200()\n",
    "s = sys.getsizeof(i)\n",
    "print()\n",
    "print(z)"
   ]
  },
  {
   "cell_type": "code",
   "execution_count": 34,
   "id": "a4066f94-84e6-493d-bd6d-062a88251770",
   "metadata": {},
   "outputs": [
    {
     "name": "stdout",
     "output_type": "stream",
     "text": [
      "1\n",
      "2\n",
      "3\n",
      "[4, 5, 6, 7, 8, 9, 10, 11, 12, 13, 14, 15, 16, 17, 18, 19, 20, 21, 22, 23, 24, 25, 26, 27, 28, 29, 30, 31, 32, 33, 34, 35, 36, 37, 38, 39, 40, 41, 42, 43, 44, 45, 46, 47, 48, 49, 50, 51, 52, 53, 54, 55, 56, 57, 58, 59, 60, 61, 62, 63, 64, 65, 66, 67, 68, 69, 70, 71, 72, 73, 74, 75, 76, 77, 78, 79, 80, 81, 82, 83, 84, 85, 86, 87, 88, 89, 90, 91, 92, 93, 94, 95, 96, 97, 98, 99, 100, 101, 102, 103, 104, 105, 106, 107, 108, 109, 110, 111, 112, 113, 114, 115, 116, 117, 118, 119, 120, 121, 122, 123, 124, 125, 126, 127, 128, 129, 130, 131, 132, 133, 134, 135, 136, 137, 138, 139, 140, 141, 142, 143, 144, 145, 146, 147, 148, 149, 150, 151, 152, 153, 154, 155, 156, 157, 158, 159, 160, 161, 162, 163, 164, 165, 166, 167, 168, 169, 170, 171, 172, 173, 174, 175, 176, 177, 178, 179, 180, 181, 182, 183, 184, 185, 186, 187, 188, 189, 190, 191, 192, 193, 194, 195, 196, 197, 198, 199, 200]\n"
     ]
    }
   ],
   "source": [
    "def creater1():\n",
    "    i = 1\n",
    "    while i <= 200:\n",
    "        yield i\n",
    "        i += 1\n",
    "creater1()\n",
    "x = creater1()\n",
    "print(next(x))\n",
    "print(next(x))\n",
    "print(next(x))\n",
    "print(list(x))"
   ]
  },
  {
   "cell_type": "code",
   "execution_count": null,
   "id": "05e39fba-31f3-4155-abdc-b7efcc7fd36f",
   "metadata": {},
   "outputs": [],
   "source": []
  }
 ],
 "metadata": {
  "kernelspec": {
   "display_name": "Python 3 (ipykernel)",
   "language": "python",
   "name": "python3"
  },
  "language_info": {
   "codemirror_mode": {
    "name": "ipython",
    "version": 3
   },
   "file_extension": ".py",
   "mimetype": "text/x-python",
   "name": "python",
   "nbconvert_exporter": "python",
   "pygments_lexer": "ipython3",
   "version": "3.12.0"
  }
 },
 "nbformat": 4,
 "nbformat_minor": 5
}
